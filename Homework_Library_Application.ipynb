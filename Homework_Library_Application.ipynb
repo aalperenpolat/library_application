{
  "nbformat": 4,
  "nbformat_minor": 0,
  "metadata": {
    "colab": {
      "provenance": [],
      "authorship_tag": "ABX9TyPCDD3VUj8cFfLLFJxjkh0q",
      "include_colab_link": true
    },
    "kernelspec": {
      "name": "python3",
      "display_name": "Python 3"
    },
    "language_info": {
      "name": "python"
    }
  },
  "cells": [
    {
      "cell_type": "markdown",
      "metadata": {
        "id": "view-in-github",
        "colab_type": "text"
      },
      "source": [
        "<a href=\"https://colab.research.google.com/github/aalperenpolat/library_application/blob/main/Homework_Library_Application.ipynb\" target=\"_parent\"><img src=\"https://colab.research.google.com/assets/colab-badge.svg\" alt=\"Open In Colab\"/></a>"
      ]
    },
    {
      "cell_type": "code",
      "source": [
        "from google.colab import drive\n",
        "\n",
        "drive.mount('/content/drive/')"
      ],
      "metadata": {
        "colab": {
          "base_uri": "https://localhost:8080/"
        },
        "id": "vftC07Yf3d_v",
        "outputId": "a1625e54-0a65-44eb-8e2a-523f0baab265"
      },
      "execution_count": null,
      "outputs": [
        {
          "output_type": "stream",
          "name": "stdout",
          "text": [
            "Mounted at /content/drive/\n"
          ]
        }
      ]
    },
    {
      "cell_type": "markdown",
      "source": [
        "# ------------------------------- V3 ---------------------------"
      ],
      "metadata": {
        "id": "1rIuNt_rJPqo"
      }
    },
    {
      "cell_type": "code",
      "source": [
        "import pandas as pd\n",
        "\n",
        "\n",
        "menu = \"\"\"\n",
        "\n",
        "\\tPython Kütüphane Uygulamasına Hoş Geldiniz\n",
        "\n",
        "\n",
        "1) Kitap Ver\n",
        "2) Kitap Al\n",
        "3) Tümünü Listele\n",
        "4) Yazarlara Göre Listele\n",
        "Q) Çıkış\n",
        "\n",
        "\n",
        "\"\"\"\n",
        "library_db =  pd.read_csv(\"/content/drive/MyDrive/Techcareer_Essential_AI_Bootcamp/Week1/Homework_Library_Application/library_db.csv\")\n",
        "kutuphane_listesi = library_db.values.tolist()\n",
        "\n",
        "\n",
        "\n",
        "def kitapver(kitap: tuple, liste: list):\n",
        "    liste.append({'yazar_adi': kitap[0], 'kitap_adi': kitap[1]})\n",
        "    print(\"Verdiğiniz kitap için teşekkür ederiz.\")\n",
        "    df = pd.DataFrame(liste)\n",
        "    df.to_csv(\"/content/drive/MyDrive/Techcareer_Essential_AI_Bootcamp/Week1/Homework_Library_Application/library_db.csv\", index=False)\n",
        "\n",
        "\n",
        "\n",
        "\n",
        "\n",
        "\n",
        "def kitapal(kitap: tuple, liste: list):\n",
        "    yazar, kitap_adi = kitap\n",
        "    for k in liste:\n",
        "        print(f\"Listedeki kitap: {k[0]}, {k[1]}, Aranan kitap: {yazar}, {kitap_adi}\")\n",
        "        if k[0] == yazar and k[1] == kitap_adi:\n",
        "            liste.remove(k)\n",
        "            print(\"Kitabı başarıyla aldınız. İyi okumalar!\")\n",
        "            df = pd.DataFrame(liste, columns=['yazar_adi', 'kitap_adi'])\n",
        "            df.to_csv(\"/content/drive/MyDrive/Techcareer_Essential_AI_Bootcamp/Week1/Homework_Library_Application/library_db.csv\", index=False)\n",
        "            return\n",
        "    print(\"İstediğiniz kitap mevcut değildir.\")\n",
        "\n",
        "\n",
        "\n",
        "def listele(liste:list):\n",
        "    if len(liste) != 0:\n",
        "        for a in liste:\n",
        "            print(\"Kitap Adı: {}        Yazar Adı: {}\".format(a[1], a[0]))\n",
        "    else:\n",
        "        print(\"Kütüphanemizde şu anda kitap bulunmamaktadır.\")\n",
        "\n",
        "\n",
        "\n",
        "\n",
        "\n",
        "def yazara_gore_listele(liste:list):\n",
        "  yazarlar = pd.unique(library_db.yazar_adi.tolist())\n",
        "  print(yazarlar)\n",
        "  yazar_inp = input(\"Kitaplarına bakmak istediğiniz yazarın ismini giriniz.\")\n",
        "\n",
        "  if yazar_inp in yazarlar:\n",
        "    yazarin_kitaplari = library_db[library_db['yazar_adi'] == yazar_inp]['kitap_adi'].tolist()\n",
        "    print(f\"{yazar_inp} adlı yazarın kitapları:\")\n",
        "    for kitap in yazarin_kitaplari:\n",
        "      print(kitap)\n",
        "\n",
        "  else:\n",
        "    print(\"Girdiğiniz yazar listede bulunmamaktadır.\")\n",
        "\n",
        "\n",
        "\n",
        "def cikis():\n",
        "  print(\"Bizi tercih ettiğiniz için teşekkür ederiz.\")\n",
        "\n",
        "df =  pd.read_csv(\"/content/drive/MyDrive/Techcareer_Essential_AI_Bootcamp/Week1/Homework_Library_Application/library_db.csv\")\n",
        "\n",
        "while True:\n",
        "  print(menu)\n",
        "  secim = input(\"Lütfen işlem numarası giriniz: \")\n",
        "\n",
        "  if secim ==\"1\":\n",
        "    yazar = input(\"Yazar Adı: \")\n",
        "    kitap_adi = input(\"Kitap Adı: \")\n",
        "    kitap = (yazar, kitap_adi)\n",
        "    kitapver(kitap, kutuphane_listesi)\n",
        "\n",
        "  elif secim ==\"2\":\n",
        "    yazar = input(\"Yazar Adı: \")\n",
        "    kitap_adi = input(\"Kitap Adı: \")\n",
        "    kitap = (yazar, kitap_adi)\n",
        "    kitapal(kitap, kutuphane_listesi)\n",
        "\n",
        "  elif secim == \"3\":\n",
        "    listele(kutuphane_listesi)\n",
        "\n",
        "  elif secim ==\"4\":\n",
        "    yazara_gore_listele(kutuphane_listesi)\n",
        "\n",
        "  elif secim == \"Q\" or secim == \"q\":\n",
        "    cikis()\n",
        "    break\n",
        "\n",
        "  else:\n",
        "    print(\"Hatali işlem yaptınız.\")\n",
        "  input(\"Ana menüye dönmek için Enter'a basınız...\")"
      ],
      "metadata": {
        "colab": {
          "base_uri": "https://localhost:8080/"
        },
        "id": "uGdfCmpjCPkJ",
        "outputId": "2e9c0f46-be81-448c-f4c8-659a0a5f424a"
      },
      "execution_count": null,
      "outputs": [
        {
          "output_type": "stream",
          "name": "stdout",
          "text": [
            "\n",
            "\n",
            "\tPython Kütüphane Uygulamasına Hoş Geldiniz\n",
            "\n",
            "\n",
            "1) Kitap Ver\n",
            "2) Kitap Al\n",
            "3) Tümünü Listele\n",
            "4) Yazarlara Göre Listele\n",
            "Q) Çıkış\n",
            "\n",
            "\n",
            "\n",
            "Lütfen işlem numarası giriniz: 4\n",
            "['Scott Lynch']\n",
            "Kitaplarına bakmak istediğiniz yazarın ismini giriniz.Scott Lynch\n",
            "Scott Lynch adlı yazarın kitapları:\n",
            "Red Seas Under Red Skies\n",
            "Ana menüye dönmek için Enter'a basınız...\n",
            "\n",
            "\n",
            "\tPython Kütüphane Uygulamasına Hoş Geldiniz\n",
            "\n",
            "\n",
            "1) Kitap Ver\n",
            "2) Kitap Al\n",
            "3) Tümünü Listele\n",
            "4) Yazarlara Göre Listele\n",
            "Q) Çıkış\n",
            "\n",
            "\n",
            "\n",
            "Lütfen işlem numarası giriniz: 3\n",
            "Kitap Adı: Red Seas Under Red Skies        Yazar Adı: Scott Lynch\n"
          ]
        }
      ]
    }
  ]
}